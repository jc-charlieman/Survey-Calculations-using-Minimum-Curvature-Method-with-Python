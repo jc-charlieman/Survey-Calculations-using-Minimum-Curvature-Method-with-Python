{
 "cells": [
  {
   "cell_type": "code",
   "execution_count": 1,
   "metadata": {},
   "outputs": [],
   "source": [
    "import pandas as pd\n",
    "from numpy import *\n",
    "import matplotlib.pyplot as plt\n",
    "import numpy as np"
   ]
  },
  {
   "cell_type": "code",
   "execution_count": 2,
   "metadata": {},
   "outputs": [],
   "source": [
    "df = pd.read_csv('Datos_Balam-47.csv')"
   ]
  },
  {
   "cell_type": "code",
   "execution_count": 3,
   "metadata": {},
   "outputs": [
    {
     "data": {
      "text/html": [
       "<div>\n",
       "<style scoped>\n",
       "    .dataframe tbody tr th:only-of-type {\n",
       "        vertical-align: middle;\n",
       "    }\n",
       "\n",
       "    .dataframe tbody tr th {\n",
       "        vertical-align: top;\n",
       "    }\n",
       "\n",
       "    .dataframe thead th {\n",
       "        text-align: right;\n",
       "    }\n",
       "</style>\n",
       "<table border=\"1\" class=\"dataframe\">\n",
       "  <thead>\n",
       "    <tr style=\"text-align: right;\">\n",
       "      <th></th>\n",
       "      <th>MD</th>\n",
       "      <th>INC</th>\n",
       "      <th>AZI</th>\n",
       "    </tr>\n",
       "  </thead>\n",
       "  <tbody>\n",
       "    <tr>\n",
       "      <th>0</th>\n",
       "      <td>0</td>\n",
       "      <td>0.00</td>\n",
       "      <td>0.00</td>\n",
       "    </tr>\n",
       "    <tr>\n",
       "      <th>1</th>\n",
       "      <td>10</td>\n",
       "      <td>0.06</td>\n",
       "      <td>18.41</td>\n",
       "    </tr>\n",
       "    <tr>\n",
       "      <th>2</th>\n",
       "      <td>20</td>\n",
       "      <td>0.19</td>\n",
       "      <td>327.70</td>\n",
       "    </tr>\n",
       "    <tr>\n",
       "      <th>3</th>\n",
       "      <td>30</td>\n",
       "      <td>0.13</td>\n",
       "      <td>0.40</td>\n",
       "    </tr>\n",
       "    <tr>\n",
       "      <th>4</th>\n",
       "      <td>40</td>\n",
       "      <td>0.21</td>\n",
       "      <td>249.21</td>\n",
       "    </tr>\n",
       "    <tr>\n",
       "      <th>5</th>\n",
       "      <td>50</td>\n",
       "      <td>0.11</td>\n",
       "      <td>160.27</td>\n",
       "    </tr>\n",
       "    <tr>\n",
       "      <th>6</th>\n",
       "      <td>60</td>\n",
       "      <td>0.28</td>\n",
       "      <td>181.32</td>\n",
       "    </tr>\n",
       "  </tbody>\n",
       "</table>\n",
       "</div>"
      ],
      "text/plain": [
       "   MD   INC     AZI\n",
       "0   0  0.00    0.00\n",
       "1  10  0.06   18.41\n",
       "2  20  0.19  327.70\n",
       "3  30  0.13    0.40\n",
       "4  40  0.21  249.21\n",
       "5  50  0.11  160.27\n",
       "6  60  0.28  181.32"
      ]
     },
     "execution_count": 3,
     "metadata": {},
     "output_type": "execute_result"
    }
   ],
   "source": [
    "df.head(7)"
   ]
  },
  {
   "cell_type": "code",
   "execution_count": 4,
   "metadata": {},
   "outputs": [],
   "source": [
    "# Declarando los contenedores\n",
    "DLS, TVD, NS, EW, Vs = np.array([0]), np.array([0]), np.array([0]), np.array([0]), np.array([0])\n",
    "az_vs = 60.91\n",
    "md, inc, azi = df['MD'], df['INC'], df['AZI']\n",
    "desp_tot, tvd_0, ns_0, ew_0 = 0, 0, 0, 0\n",
    "\n",
    "for i in range(1,len(df)):\n",
    "    # Conversiones\n",
    "    I0, I1 = deg2rad(inc[i-1]), deg2rad(inc[i])\n",
    "    A0, A1 = deg2rad(azi[i-1]), deg2rad(azi[i])\n",
    "    MD = md[i] - md[i-1]\n",
    "    \n",
    "    # Desplazamientos\n",
    "    desp_par = MD * sin(I1)\n",
    "    desp_tot += desp_par\n",
    "\n",
    "    # Severidad\n",
    "    dls_rad =  (arccos((cos(I0) * cos(I1) + (sin(I0) * sin(I1) * cos(A1-A0))))) * (30/MD)\n",
    "    dls_deg = rad2deg(dls_rad)\n",
    "    DLS = np.append(DLS, dls_deg)\n",
    "\n",
    "    # Factor F\n",
    "    if dls_deg == 0:\n",
    "        RF = 1\n",
    "    else:\n",
    "        RF = (180/pi) * (2/dls_deg) * tan(deg2rad(dls_deg/2))\n",
    "    \n",
    "    # TVD\n",
    "    tvd = ((MD/2) * (cos(I0) + cos(I1)) * RF) + TVD[i-1]\n",
    "    TVD = np.append(TVD, tvd)\n",
    "\n",
    "    # Northing - Easting\n",
    "    ns = ((MD/2) * (sin(I0) * cos(A0) + sin(I1) * cos(A1)) * RF) + NS[i-1]\n",
    "    # NS.append(ns)\n",
    "    NS = np.append(NS, ns)\n",
    "    ew = ((MD/2) * (sin(I0) * sin(A0) + sin(I1) * sin(A1)) * RF) + EW[i-1]\n",
    "    EW = np.append(EW, ew)\n",
    "\n",
    "    # Distancia de Cierre - CD\n",
    "    CD = sqrt((ew)**2 + (ns)**2)\n",
    "\n",
    "    # Azimuth de Cierre - Az_CD\n",
    "    # Primer cuadrante\n",
    "    if ns > 0 and ew > 0:\n",
    "        az_cl = rad2deg(arctan(abs(ew/ns)))\n",
    "    # Segundo cuadrante\n",
    "    elif ns < 0 and ew > 0:\n",
    "        az_cl = 180 - rad2deg(arctan(abs(ew/ns)))\n",
    "    # Tercer cuadrante\n",
    "    elif ns < 0 and ew < 0:\n",
    "        az_cl = 180 + rad2deg(arctan(abs(ew/ns)))\n",
    "    # Cuarto cuadrante\n",
    "    else:\n",
    "        az_cl = 360 - rad2deg(arctan(abs(ew/ns)))\n",
    "    \n",
    "    # Sección Vertical - Vs\n",
    "    vs = cos(deg2rad(az_vs - az_cl)) * CD\n",
    "    Vs = np.append(Vs, vs)\n",
    "\n",
    "df['TVD'], df['NS'], df['EW'], df['VSEC'], df['DLS']  = TVD, NS, EW, Vs, DLS"
   ]
  },
  {
   "cell_type": "code",
   "execution_count": 5,
   "metadata": {},
   "outputs": [
    {
     "data": {
      "text/html": [
       "<div>\n",
       "<style scoped>\n",
       "    .dataframe tbody tr th:only-of-type {\n",
       "        vertical-align: middle;\n",
       "    }\n",
       "\n",
       "    .dataframe tbody tr th {\n",
       "        vertical-align: top;\n",
       "    }\n",
       "\n",
       "    .dataframe thead th {\n",
       "        text-align: right;\n",
       "    }\n",
       "</style>\n",
       "<table border=\"1\" class=\"dataframe\">\n",
       "  <thead>\n",
       "    <tr style=\"text-align: right;\">\n",
       "      <th></th>\n",
       "      <th>MD</th>\n",
       "      <th>INC</th>\n",
       "      <th>AZI</th>\n",
       "      <th>TVD</th>\n",
       "      <th>NS</th>\n",
       "      <th>EW</th>\n",
       "      <th>VSEC</th>\n",
       "      <th>DLS</th>\n",
       "    </tr>\n",
       "  </thead>\n",
       "  <tbody>\n",
       "    <tr>\n",
       "      <th>0</th>\n",
       "      <td>0</td>\n",
       "      <td>0.00</td>\n",
       "      <td>0.00</td>\n",
       "      <td>0.000000</td>\n",
       "      <td>0.000000</td>\n",
       "      <td>0.000000</td>\n",
       "      <td>0.000000</td>\n",
       "      <td>0.000000</td>\n",
       "    </tr>\n",
       "    <tr>\n",
       "      <th>1</th>\n",
       "      <td>10</td>\n",
       "      <td>0.06</td>\n",
       "      <td>18.41</td>\n",
       "      <td>10.000005</td>\n",
       "      <td>0.004968</td>\n",
       "      <td>0.001654</td>\n",
       "      <td>0.003860</td>\n",
       "      <td>0.180000</td>\n",
       "    </tr>\n",
       "    <tr>\n",
       "      <th>2</th>\n",
       "      <td>20</td>\n",
       "      <td>0.19</td>\n",
       "      <td>327.70</td>\n",
       "      <td>20.000033</td>\n",
       "      <td>0.023951</td>\n",
       "      <td>-0.005553</td>\n",
       "      <td>0.006792</td>\n",
       "      <td>0.476821</td>\n",
       "    </tr>\n",
       "    <tr>\n",
       "      <th>3</th>\n",
       "      <td>30</td>\n",
       "      <td>0.13</td>\n",
       "      <td>0.40</td>\n",
       "      <td>30.000019</td>\n",
       "      <td>0.049310</td>\n",
       "      <td>-0.014333</td>\n",
       "      <td>0.011449</td>\n",
       "      <td>0.320724</td>\n",
       "    </tr>\n",
       "    <tr>\n",
       "      <th>4</th>\n",
       "      <td>40</td>\n",
       "      <td>0.21</td>\n",
       "      <td>249.21</td>\n",
       "      <td>40.000157</td>\n",
       "      <td>0.054150</td>\n",
       "      <td>-0.031387</td>\n",
       "      <td>-0.001101</td>\n",
       "      <td>0.852421</td>\n",
       "    </tr>\n",
       "  </tbody>\n",
       "</table>\n",
       "</div>"
      ],
      "text/plain": [
       "   MD   INC     AZI        TVD        NS        EW      VSEC       DLS\n",
       "0   0  0.00    0.00   0.000000  0.000000  0.000000  0.000000  0.000000\n",
       "1  10  0.06   18.41  10.000005  0.004968  0.001654  0.003860  0.180000\n",
       "2  20  0.19  327.70  20.000033  0.023951 -0.005553  0.006792  0.476821\n",
       "3  30  0.13    0.40  30.000019  0.049310 -0.014333  0.011449  0.320724\n",
       "4  40  0.21  249.21  40.000157  0.054150 -0.031387 -0.001101  0.852421"
      ]
     },
     "execution_count": 5,
     "metadata": {},
     "output_type": "execute_result"
    }
   ],
   "source": [
    "df.head()"
   ]
  },
  {
   "cell_type": "markdown",
   "metadata": {},
   "source": [
    "### 2D - Plot"
   ]
  },
  {
   "cell_type": "code",
   "execution_count": 9,
   "metadata": {},
   "outputs": [
    {
     "data": {
      "image/png": "[encoded data removed]",
      "text/plain": [
       "<Figure size 1050x1050 with 4 Axes>"
      ]
     },
     "metadata": {},
     "output_type": "display_data"
    }
   ],
   "source": [
    "# Create the figure\n",
    "fig, ax = plt.subplots(figsize=(10,10), dpi=105)\n",
    "ax.remove()\n",
    "plt.rcParams['axes.axisbelow'] = True\n",
    "\n",
    "# Axes_1: Vertical-Section\n",
    "ax1 = plt.subplot2grid(shape=(3,2),loc=(0,0),rowspan=3)\n",
    "ax1.plot(df['VSEC'],df['TVD'],color='blue')\n",
    "ax1.set_ylim(5000,0)\n",
    "ax1.set_xlim(-600,600)\n",
    "ax1.set_xlabel(f'Vs (m) @ {az_vs}°',weight='bold', labelpad=8)\n",
    "ax1.set_ylabel('TVD (m)',weight='bold', labelpad=8)\n",
    "ax1.set_yticks([i for i in range(0,5500,500)])\n",
    "# ax1.tick_params(axis='x', labelsize= 12)\n",
    "ax1.grid(c=(0.85,0.85,0.85), linestyle='dashed')\n",
    "\n",
    "# #Axes_2: Plan-View\n",
    "ax2 = plt.subplot2grid(shape=(3,2),loc=(0,1)) \n",
    "ax2.plot(df['EW'],df['NS'],color='blue')\n",
    "ax2.set_xlim(-200,600)\n",
    "ax2.set_ylim(300,-600)\n",
    "ax2.set_xlabel('West-East',weight='bold', labelpad=8)\n",
    "ax2.set_ylabel('South-North',weight='bold', labelpad=8)\n",
    "ax2.grid(c=(0.85,0.85,0.85), linestyle='dashed')\n",
    "\n",
    "# #Axes_3: Inc-depth\n",
    "ax3 = plt.subplot2grid(shape=(3,2),loc=(1,1)) \n",
    "ax3.plot(df['MD'],df['INC'],color='blue')\n",
    "# ax3.set_xlim(0,3500)\n",
    "# ax3.set_ylim(0,40)\n",
    "ax3.set_xlabel('Profundidad (md)',weight='bold', labelpad=8)\n",
    "ax3.set_ylabel('Inc (°)',weight='bold', labelpad=8)\n",
    "ax3.grid(c=(0.85,0.85,0.85), linestyle='dashed')\n",
    "\n",
    "# #Axes_4: DLS-depth\n",
    "ax4 = plt.subplot2grid(shape=(3,2),loc=(2,1))\n",
    "ax4.plot(df['MD'],df['DLS'],color='blue')\n",
    "# ax4.set_xlim(0,5500)\n",
    "# ax4.set_ylim(0,5)\n",
    "ax4.set_xlabel('Profundidad (md)',weight='bold', labelpad=8)\n",
    "ax4.set_ylabel('DLS (°/30 m)',weight='bold',labelpad=8)\n",
    "ax4.grid(c=(0.85,0.85,0.85), linestyle='dashed')\n",
    "\n",
    "plt.tight_layout()\n",
    "plt.show()"
   ]
  },
  {
   "cell_type": "markdown",
   "metadata": {},
   "source": [
    "### 3D - Plot"
   ]
  },
  {
   "cell_type": "code",
   "execution_count": 7,
   "metadata": {},
   "outputs": [
    {
     "data": {
      "application/vnd.plotly.v1+json": {
       "config": {
        "plotlyServerURL": "https://plot.ly"
       },
       "data": [
        {
         "hovertemplate": "E/O (m)=%{x}<br>N/S (m)=%{y}<br>TVD=%{z}<extra></extra>",
         "legendgroup": "",
         "line": {
          "color": "blue",
          "dash": "solid",
          "width": 4
         },
         "marker": {
          "symbol": "circle"
         },
         "mode": "lines",
         "name": "",
         "scene": "scene",
         "showlegend": false,
         "type": "scatter3d",
         "x": [
          0,
          0.001653602657757357,
          -0.005552718866597344,
          -0.01433342320805118,
          -0.031387210418939736,
          -0.04527944678913727,
          -0.0426016957926266,
          -0.03114160094650971,
          -0.020489744987729902,
          -0.01736608416659086,
          0.026284915206110798,
          0.14411109238834824,
          0.3193261080788179,
          0.5524483235990691,
          0.862944455521228,
          1.2260182792750047,
          1.4180373338276948,
          1.9448141929668772,
          3.221921220630282,
          4.636465621678909,
          6.157132820606795,
          7.834535375286679,
          9.334165394882541,
          10.232199497287027,
          11.380252177341347,
          12.481728464696351,
          13.632599467761722,
          14.948374075501317,
          16.22582575420399,
          17.512677780415068,
          18.855385279310116,
          20.10600553573649,
          21.362922505124477,
          23.345439362743996,
          23.908704644747775,
          24.143248458178338,
          24.200083985161314,
          24.068327503643932,
          23.468252515524362,
          22.342196379688446,
          20.801313877955117,
          18.890409803971483,
          16.65401847288168,
          14.525830582863229,
          12.359828515582288,
          10.700530315521673,
          9.25319825444241,
          7.647233197339043,
          6.054362463662302,
          4.3495382047378754,
          2.4618322502568555,
          0.3928048065752039,
          -1.7614341782133134,
          -3.9036709675505294,
          -6.135316807552638,
          -8.372458082038463,
          -10.67969282535733,
          -12.809986258765102,
          -14.60432677613445,
          -16.260645123364796,
          -17.720151392750857,
          -19.101878741046242,
          -20.491018684019718,
          -21.851278217316544,
          -23.227125725547467,
          -24.84796884847608,
          -26.555716411144253,
          -28.747537805002693,
          -30.465768909684336,
          -32.13514328460519,
          -33.99559205568937,
          -35.92979588433329,
          -37.85576395209273,
          -39.83006063982188,
          -41.68876442761393,
          -43.6289928852361,
          -45.59636310173121,
          -47.45659802694622,
          -49.35654331321987,
          -51.31203561250826,
          -53.188906610452015,
          -55.04481932715498,
          -56.74935463119647,
          -58.44122158177191,
          -60.01779777446361,
          -61.502430615901226,
          -62.99079839775774,
          -64.45521783145247,
          -65.94027302965098,
          -67.50941183396569,
          -69.05864772198827,
          -70.72198306829131,
          -72.46746609151367,
          -74.18543477130281,
          -75.88442484354057,
          -77.61362787375853,
          -79.33333705090817,
          -80.9982282385076,
          -82.52449662826741,
          -84.11386006663565,
          -85.75076019876487,
          -87.36130970053792,
          -89.0681373250282,
          -90.78954858848009,
          -92.65144332885575,
          -94.54716427151988,
          -96.4395836658057,
          -98.49149510304986,
          -100.46341786950124,
          -102.41460520205155,
          -104.22513117833628,
          -106.04273479197222,
          -107.84126602883671,
          -109.6149557384714,
          -112.270024622079,
          -114.12667630823307,
          -115.71577973238526,
          -118.70435752629136,
          -120.48366245646224,
          -122.35492769591117,
          -124.25287185224117,
          -126.1066819667137,
          -128.01863223191148,
          -129.7869348547651,
          -131.40881455547236,
          -132.91325146370352,
          -134.2301365504623,
          -135.30488234627424,
          -136.10836208494138,
          -136.49331080386517,
          -136.29366301377257,
          -135.55008840817104,
          -134.39082580803438,
          -132.5872607958172,
          -129.797711714688,
          -126.1444278879578,
          -122.16969080004837,
          -117.66400018925938,
          -112.92887957517716,
          -107.70344593499448,
          -102.34648036639688,
          -97.23511272881659,
          -92.25187181664954,
          -87.32362763111878,
          -82.55828786993602,
          -77.59955308139715,
          -72.79963787017842,
          -67.80242759042258,
          -62.606136007586684,
          -56.388169142365484,
          -49.81226826216389,
          -45.20294237337444,
          -36.06513014811428,
          -29.199881797169944,
          -22.069762572966845,
          -12.534044496311342,
          -2.922005430782601,
          7.060692973305979,
          17.378838697370867,
          29.045054451573968,
          41.76917358740017,
          55.64683104792209,
          70.85854443397874,
          84.70257082131991,
          98.93206287587309,
          113.851475176782,
          143.35002109155158,
          158.90778860893826,
          166.67801389389828,
          182.35693851542686,
          198.96290680600418,
          215.08661039703185,
          232.30847502422972,
          249.71972731543912,
          267.25221626866625,
          285.0179289937587,
          303.06851939057066,
          320.7334291095352,
          339.00900311089555,
          357.2169275898802,
          375.38677647352716,
          392.92662323041566,
          411.07754360208645,
          428.6149024070632,
          446.8275017679713,
          465.15752661887103,
          483.69006603037997,
          504.24415280145155
         ],
         "y": [
          0,
          0.004968017824686177,
          0.023951087366185807,
          0.049310453770994876,
          0.054150226696468136,
          0.038609592549913065,
          0.00514554475638393,
          -0.03311353847038803,
          -0.09666923296036387,
          -0.2011842565812313,
          -0.32606881656742115,
          -0.4556135160437614,
          -0.5729401334255187,
          -0.7101432137758306,
          -0.8642653565158306,
          -1.0006289789325902,
          -1.0491050075270292,
          -1.1741798796358964,
          -1.5890041132475488,
          -2.2930682029897915,
          -3.4027847938630353,
          -4.9866776917081355,
          -6.976883117694236,
          -8.59445578035851,
          -11.001175139105845,
          -13.503689725971942,
          -16.033765260791302,
          -18.549673638423506,
          -20.735893621992762,
          -22.677922823024332,
          -24.59793921450354,
          -26.414323984105675,
          -28.26043238545096,
          -33.24886735388387,
          -37.020920584957075,
          -41.341774061438024,
          -46.09488555584744,
          -50.71008710698449,
          -55.591600556967805,
          -60.24391899072934,
          -64.81361571646583,
          -69.29106036043281,
          -73.86924197688789,
          -78.05989427331328,
          -82.54654318455307,
          -86.94663273283875,
          -91.44868149917045,
          -96.1715356354452,
          -100.73458043835956,
          -105.28242689326981,
          -109.89381808049627,
          -114.42325182704033,
          -118.72525033130201,
          -122.87222952396226,
          -127.23792244603254,
          -131.56001982971992,
          -136.05255750733028,
          -140.51061717432754,
          -144.80650835236847,
          -149.40027211315228,
          -153.85551922759652,
          -158.31088809462582,
          -162.94055978272155,
          -167.5347050008259,
          -171.91084183268734,
          -176.4122195670568,
          -180.71160092770526,
          -186.3121691838799,
          -190.70705787067573,
          -194.84383513914642,
          -199.29150523544408,
          -203.65842274530948,
          -207.79543986702586,
          -212.10036321136073,
          -216.2655095781421,
          -220.5397230999307,
          -224.8180370291454,
          -228.9926586737543,
          -233.33943052119398,
          -237.67520262071184,
          -241.85587168699828,
          -246.19971171075753,
          -250.44559251249353,
          -254.89615714564005,
          -259.20170593388605,
          -263.54686657414754,
          -268.17464764767925,
          -272.70993062544966,
          -277.23343648739706,
          -281.9107856355274,
          -286.4305339464968,
          -291.1041632384854,
          -295.75046455455197,
          -300.2294533195899,
          -304.77212587124774,
          -309.5837953777393,
          -314.47821387363143,
          -319.42533793526366,
          -324.2060613671119,
          -329.1442527698682,
          -334.0722105665718,
          -338.8099718464024,
          -343.7194220547241,
          -348.4792404727769,
          -353.40920398168686,
          -358.3183051510615,
          -363.03860561533946,
          -367.90326458560116,
          -372.55717811768653,
          -377.25360581356955,
          -381.7245568453853,
          -386.2842019306534,
          -390.8324500582042,
          -395.513386616509,
          -402.4099325546367,
          -407.3196616870096,
          -412.1792437559474,
          -421.97303634785385,
          -427.5107822982854,
          -432.96628587156755,
          -438.20288411074756,
          -443.2049912142207,
          -448.3323242405261,
          -453.31978108264116,
          -458.38552919900076,
          -463.64350698249626,
          -468.93270813082614,
          -474.0350853955103,
          -479.26507393889284,
          -484.94663153346323,
          -490.7413653345444,
          -496.51628339722197,
          -501.8623388001953,
          -506.8205911013553,
          -510.80686176985296,
          -513.6162032791887,
          -515.5326279615185,
          -516.9892688462023,
          -517.9437127044889,
          -518.4185489403898,
          -518.2112842902205,
          -517.3025694231884,
          -515.9055281386975,
          -514.2713962337535,
          -512.6226533030427,
          -510.81227566322707,
          -508.7556672237601,
          -506.1751273870185,
          -503.0119732115775,
          -498.6851191332835,
          -493.6477328701376,
          -489.990494999175,
          -481.8847216015389,
          -474.42070495929323,
          -466.02685588979693,
          -454.8834818154823,
          -443.1833345419368,
          -430.1990830062681,
          -416.0997811358909,
          -400.2726592686451,
          -384.3534890242694,
          -367.8952881679294,
          -349.8411863985831,
          -332.38614445361907,
          -313.45511414724314,
          -293.7102858145517,
          -254.90377136856705,
          -234.2602668183121,
          -223.76099718847584,
          -202.01734164774362,
          -178.3946409432212,
          -155.71891011373404,
          -132.02441033803962,
          -108.00627038786047,
          -83.79086293436251,
          -59.645635240736866,
          -35.696079647702824,
          -12.707955081220483,
          11.066243142785499,
          34.88983621732184,
          58.74549908499871,
          81.82828665147878,
          105.70228214967375,
          128.7859774794431,
          152.60708586266753,
          176.33192724363744,
          199.89948907157998,
          225.6932826458861
         ],
         "z": [
          0,
          10.000005483119669,
          20.000032964402997,
          30.000018714443705,
          40.00015671492704,
          50.000240361101945,
          60.00024685899702,
          70.00023478154063,
          80.00039408155875,
          89.99986244281449,
          99.99934619164321,
          109.99823153246763,
          119.99608858681195,
          129.99294526153102,
          139.9872900025014,
          149.9798680962752,
          154.9763579738032,
          167.96522602303304,
          195.93294515740757,
          223.8881261692712,
          250.82220661387979,
          279.730145486958,
          308.6225170014346,
          328.5368837923371,
          356.4096158204604,
          384.2757819480991,
          412.13744543192496,
          440.9980895860773,
          468.8832454619309,
          496.7861271375126,
          524.6879158662612,
          551.5976636197023,
          579.5084348324284,
          635.2378310134828,
          664.992998611656,
          692.655963087336,
          720.2494918637058,
          746.8517364105254,
          775.4311163586011,
          803.0186955062442,
          830.600126078168,
          858.1735179923157,
          886.7223822121035,
          913.3101398935688,
          941.8789071708144,
          969.480736993474,
          997.0784307827447,
          1025.6461655781372,
          1053.2258815232249,
          1080.8014070599295,
          1109.370082780694,
          1137.939279439436,
          1165.5228049228847,
          1192.116275340177,
          1219.6836543567144,
          1247.257444861972,
          1275.8142663939977,
          1303.3748526429117,
          1329.9703041236307,
          1358.5561844643928,
          1386.16087354553,
          1413.7695755787433,
          1442.3639062338893,
          1470.965359261594,
          1498.5870143877223,
          1527.1895303742128,
          1554.8047149168517,
          1591.3126208728922,
          1619.9261112008965,
          1646.5550435420573,
          1675.1514828300808,
          1703.7554613777709,
          1731.3810915968304,
          1759.991728930845,
          1787.6177402442938,
          1816.235331506276,
          1844.8504573592807,
          1872.4749245041523,
          1901.084285795262,
          1929.691572550672,
          1957.3140081801293,
          1985.9266959819606,
          2013.550352473112,
          2042.1568148631845,
          2069.7788426171155,
          2097.399738365912,
          2125.989364722169,
          2153.5807881182423,
          2181.1730420103995,
          2209.7503068253977,
          2237.3396472157765,
          2265.9121842219547,
          2294.4842810335417,
          2322.0702779105027,
          2349.6470211972714,
          2378.19271990186,
          2406.724928767094,
          2435.2512850188104,
          2462.7978817513012,
          2491.3301066183894,
          2519.8614173635237,
          2547.4106399334064,
          2575.9410425203587,
          2603.47974597278,
          2631.9969095364227,
          2660.515445622148,
          2688.049730514514,
          2716.5650646604277,
          2744.1050706827805,
          2772.6556081865197,
          2801.2514967151183,
          2829.8327601799874,
          2857.402252709624,
          2885.966953998131,
          2927.311533034651,
          2955.8324533381724,
          2983.3616125836415,
          3037.399525193926,
          3066.8301803792606,
          3096.270404058982,
          3125.748780791676,
          3154.2539078271993,
          3183.750588331699,
          3212.2636684436834,
          3240.7716615683785,
          3270.2689121916396,
          3299.7695331383115,
          3328.2968444060944,
          3356.8097546397435,
          3386.2638449999163,
          3415.6976375730433,
          3445.126870159615,
          3473.6057883623566,
          3503.136680440822,
          3532.7352670634755,
          3562.377064122957,
          3591.038852704339,
          3620.66220461438,
          3649.2566854392453,
          3678.793685308081,
          3708.3099661815413,
          3736.8408975107977,
          3765.3752306700503,
          3793.906615034104,
          3821.4488215294923,
          3849.9642483929906,
          3877.472828646006,
          3905.9219214980735,
          3933.251727232959,
          3961.2416185058632,
          3986.9383250353335,
          4003.94946038857,
          4038.8713388724227,
          4066.0379978713368,
          4091.777839137133,
          4120.205734920421,
          4146.10265887188,
          4171.228644826942,
          4194.369459439684,
          4217.018252788231,
          4237.643911933113,
          4257.06884852442,
          4275.566773818195,
          4290.815436499991,
          4305.75222717906,
          4320.870153844045,
          4350.414668345195,
          4365.638370982271,
          4373.01490217634,
          4386.462765309191,
          4397.697674645652,
          4405.855317086955,
          4412.306313274704,
          4416.737176689969,
          4419.163570606116,
          4420.328281585942,
          4421.087425458489,
          4421.788369736996,
          4422.675742409683,
          4423.628531898758,
          4424.50020062562,
          4425.234033337397,
          4425.993170536821,
          4426.7573617186135,
          4427.6787510837485,
          4428.746668284823,
          4429.796283672636,
          4430.896160962766
         ]
        }
       ],
       "layout": {
        "height": 800,
        "legend": {
         "tracegroupgap": 0
        },
        "scene": {
         "domain": {
          "x": [
           0,
           1
          ],
          "y": [
           0,
           1
          ]
         },
         "xaxis": {
          "backgroundcolor": "white",
          "gridcolor": "rgb(222,222,222)",
          "range": [
           -200,
           600
          ],
          "tickfont": {
           "size": 12
          },
          "tickvals": [
           0,
           200,
           400,
           600
          ],
          "title": {
           "text": "E/O (m)"
          }
         },
         "yaxis": {
          "backgroundcolor": "white",
          "gridcolor": "rgb(222,222,222)",
          "range": [
           -600,
           300
          ],
          "tickfont": {
           "size": 12
          },
          "tickvals": [
           -600,
           -400,
           -200,
           0,
           200,
           400
          ],
          "title": {
           "text": "N/S (m)"
          }
         },
         "zaxis": {
          "backgroundcolor": "white",
          "gridcolor": "rgb(222,222,222)",
          "range": [
           5000,
           0
          ],
          "tickfont": {
           "size": 12
          },
          "tickvals": [
           0,
           500,
           1000,
           1500,
           2000,
           2500,
           3000,
           3500,
           4000,
           4500,
           5000
          ],
          "title": {
           "text": "TVD"
          }
         }
        },
        "template": {
         "data": {
          "bar": [
           {
            "error_x": {
             "color": "#2a3f5f"
            },
            "error_y": {
             "color": "#2a3f5f"
            },
            "marker": {
             "line": {
              "color": "#E5ECF6",
              "width": 0.5
             },
             "pattern": {
              "fillmode": "overlay",
              "size": 10,
              "solidity": 0.2
             }
            },
            "type": "bar"
           }
          ],
          "barpolar": [
           {
            "marker": {
             "line": {
              "color": "#E5ECF6",
              "width": 0.5
             },
             "pattern": {
              "fillmode": "overlay",
              "size": 10,
              "solidity": 0.2
             }
            },
            "type": "barpolar"
           }
          ],
          "carpet": [
           {
            "aaxis": {
             "endlinecolor": "#2a3f5f",
             "gridcolor": "white",
             "linecolor": "white",
             "minorgridcolor": "white",
             "startlinecolor": "#2a3f5f"
            },
            "baxis": {
             "endlinecolor": "#2a3f5f",
             "gridcolor": "white",
             "linecolor": "white",
             "minorgridcolor": "white",
             "startlinecolor": "#2a3f5f"
            },
            "type": "carpet"
           }
          ],
          "choropleth": [
           {
            "colorbar": {
             "outlinewidth": 0,
             "ticks": ""
            },
            "type": "choropleth"
           }
          ],
          "contour": [
           {
            "colorbar": {
             "outlinewidth": 0,
             "ticks": ""
            },
            "colorscale": [
             [
              0,
              "#0d0887"
             ],
             [
              0.1111111111111111,
              "#46039f"
             ],
             [
              0.2222222222222222,
              "#7201a8"
             ],
             [
              0.3333333333333333,
              "#9c179e"
             ],
             [
              0.4444444444444444,
              "#bd3786"
             ],
             [
              0.5555555555555556,
              "#d8576b"
             ],
             [
              0.6666666666666666,
              "#ed7953"
             ],
             [
              0.7777777777777778,
              "#fb9f3a"
             ],
             [
              0.8888888888888888,
              "#fdca26"
             ],
             [
              1,
              "#f0f921"
             ]
            ],
            "type": "contour"
           }
          ],
          "contourcarpet": [
           {
            "colorbar": {
             "outlinewidth": 0,
             "ticks": ""
            },
            "type": "contourcarpet"
           }
          ],
          "heatmap": [
           {
            "colorbar": {
             "outlinewidth": 0,
             "ticks": ""
            },
            "colorscale": [
             [
              0,
              "#0d0887"
             ],
             [
              0.1111111111111111,
              "#46039f"
             ],
             [
              0.2222222222222222,
              "#7201a8"
             ],
             [
              0.3333333333333333,
              "#9c179e"
             ],
             [
              0.4444444444444444,
              "#bd3786"
             ],
             [
              0.5555555555555556,
              "#d8576b"
             ],
             [
              0.6666666666666666,
              "#ed7953"
             ],
             [
              0.7777777777777778,
              "#fb9f3a"
             ],
             [
              0.8888888888888888,
              "#fdca26"
             ],
             [
              1,
              "#f0f921"
             ]
            ],
            "type": "heatmap"
           }
          ],
          "heatmapgl": [
           {
            "colorbar": {
             "outlinewidth": 0,
             "ticks": ""
            },
            "colorscale": [
             [
              0,
              "#0d0887"
             ],
             [
              0.1111111111111111,
              "#46039f"
             ],
             [
              0.2222222222222222,
              "#7201a8"
             ],
             [
              0.3333333333333333,
              "#9c179e"
             ],
             [
              0.4444444444444444,
              "#bd3786"
             ],
             [
              0.5555555555555556,
              "#d8576b"
             ],
             [
              0.6666666666666666,
              "#ed7953"
             ],
             [
              0.7777777777777778,
              "#fb9f3a"
             ],
             [
              0.8888888888888888,
              "#fdca26"
             ],
             [
              1,
              "#f0f921"
             ]
            ],
            "type": "heatmapgl"
           }
          ],
          "histogram": [
           {
            "marker": {
             "pattern": {
              "fillmode": "overlay",
              "size": 10,
              "solidity": 0.2
             }
            },
            "type": "histogram"
           }
          ],
          "histogram2d": [
           {
            "colorbar": {
             "outlinewidth": 0,
             "ticks": ""
            },
            "colorscale": [
             [
              0,
              "#0d0887"
             ],
             [
              0.1111111111111111,
              "#46039f"
             ],
             [
              0.2222222222222222,
              "#7201a8"
             ],
             [
              0.3333333333333333,
              "#9c179e"
             ],
             [
              0.4444444444444444,
              "#bd3786"
             ],
             [
              0.5555555555555556,
              "#d8576b"
             ],
             [
              0.6666666666666666,
              "#ed7953"
             ],
             [
              0.7777777777777778,
              "#fb9f3a"
             ],
             [
              0.8888888888888888,
              "#fdca26"
             ],
             [
              1,
              "#f0f921"
             ]
            ],
            "type": "histogram2d"
           }
          ],
          "histogram2dcontour": [
           {
            "colorbar": {
             "outlinewidth": 0,
             "ticks": ""
            },
            "colorscale": [
             [
              0,
              "#0d0887"
             ],
             [
              0.1111111111111111,
              "#46039f"
             ],
             [
              0.2222222222222222,
              "#7201a8"
             ],
             [
              0.3333333333333333,
              "#9c179e"
             ],
             [
              0.4444444444444444,
              "#bd3786"
             ],
             [
              0.5555555555555556,
              "#d8576b"
             ],
             [
              0.6666666666666666,
              "#ed7953"
             ],
             [
              0.7777777777777778,
              "#fb9f3a"
             ],
             [
              0.8888888888888888,
              "#fdca26"
             ],
             [
              1,
              "#f0f921"
             ]
            ],
            "type": "histogram2dcontour"
           }
          ],
          "mesh3d": [
           {
            "colorbar": {
             "outlinewidth": 0,
             "ticks": ""
            },
            "type": "mesh3d"
           }
          ],
          "parcoords": [
           {
            "line": {
             "colorbar": {
              "outlinewidth": 0,
              "ticks": ""
             }
            },
            "type": "parcoords"
           }
          ],
          "pie": [
           {
            "automargin": true,
            "type": "pie"
           }
          ],
          "scatter": [
           {
            "fillpattern": {
             "fillmode": "overlay",
             "size": 10,
             "solidity": 0.2
            },
            "type": "scatter"
           }
          ],
          "scatter3d": [
           {
            "line": {
             "colorbar": {
              "outlinewidth": 0,
              "ticks": ""
             }
            },
            "marker": {
             "colorbar": {
              "outlinewidth": 0,
              "ticks": ""
             }
            },
            "type": "scatter3d"
           }
          ],
          "scattercarpet": [
           {
            "marker": {
             "colorbar": {
              "outlinewidth": 0,
              "ticks": ""
             }
            },
            "type": "scattercarpet"
           }
          ],
          "scattergeo": [
           {
            "marker": {
             "colorbar": {
              "outlinewidth": 0,
              "ticks": ""
             }
            },
            "type": "scattergeo"
           }
          ],
          "scattergl": [
           {
            "marker": {
             "colorbar": {
              "outlinewidth": 0,
              "ticks": ""
             }
            },
            "type": "scattergl"
           }
          ],
          "scattermapbox": [
           {
            "marker": {
             "colorbar": {
              "outlinewidth": 0,
              "ticks": ""
             }
            },
            "type": "scattermapbox"
           }
          ],
          "scatterpolar": [
           {
            "marker": {
             "colorbar": {
              "outlinewidth": 0,
              "ticks": ""
             }
            },
            "type": "scatterpolar"
           }
          ],
          "scatterpolargl": [
           {
            "marker": {
             "colorbar": {
              "outlinewidth": 0,
              "ticks": ""
             }
            },
            "type": "scatterpolargl"
           }
          ],
          "scatterternary": [
           {
            "marker": {
             "colorbar": {
              "outlinewidth": 0,
              "ticks": ""
             }
            },
            "type": "scatterternary"
           }
          ],
          "surface": [
           {
            "colorbar": {
             "outlinewidth": 0,
             "ticks": ""
            },
            "colorscale": [
             [
              0,
              "#0d0887"
             ],
             [
              0.1111111111111111,
              "#46039f"
             ],
             [
              0.2222222222222222,
              "#7201a8"
             ],
             [
              0.3333333333333333,
              "#9c179e"
             ],
             [
              0.4444444444444444,
              "#bd3786"
             ],
             [
              0.5555555555555556,
              "#d8576b"
             ],
             [
              0.6666666666666666,
              "#ed7953"
             ],
             [
              0.7777777777777778,
              "#fb9f3a"
             ],
             [
              0.8888888888888888,
              "#fdca26"
             ],
             [
              1,
              "#f0f921"
             ]
            ],
            "type": "surface"
           }
          ],
          "table": [
           {
            "cells": {
             "fill": {
              "color": "#EBF0F8"
             },
             "line": {
              "color": "white"
             }
            },
            "header": {
             "fill": {
              "color": "#C8D4E3"
             },
             "line": {
              "color": "white"
             }
            },
            "type": "table"
           }
          ]
         },
         "layout": {
          "annotationdefaults": {
           "arrowcolor": "#2a3f5f",
           "arrowhead": 0,
           "arrowwidth": 1
          },
          "autotypenumbers": "strict",
          "coloraxis": {
           "colorbar": {
            "outlinewidth": 0,
            "ticks": ""
           }
          },
          "colorscale": {
           "diverging": [
            [
             0,
             "#8e0152"
            ],
            [
             0.1,
             "#c51b7d"
            ],
            [
             0.2,
             "#de77ae"
            ],
            [
             0.3,
             "#f1b6da"
            ],
            [
             0.4,
             "#fde0ef"
            ],
            [
             0.5,
             "#f7f7f7"
            ],
            [
             0.6,
             "#e6f5d0"
            ],
            [
             0.7,
             "#b8e186"
            ],
            [
             0.8,
             "#7fbc41"
            ],
            [
             0.9,
             "#4d9221"
            ],
            [
             1,
             "#276419"
            ]
           ],
           "sequential": [
            [
             0,
             "#0d0887"
            ],
            [
             0.1111111111111111,
             "#46039f"
            ],
            [
             0.2222222222222222,
             "#7201a8"
            ],
            [
             0.3333333333333333,
             "#9c179e"
            ],
            [
             0.4444444444444444,
             "#bd3786"
            ],
            [
             0.5555555555555556,
             "#d8576b"
            ],
            [
             0.6666666666666666,
             "#ed7953"
            ],
            [
             0.7777777777777778,
             "#fb9f3a"
            ],
            [
             0.8888888888888888,
             "#fdca26"
            ],
            [
             1,
             "#f0f921"
            ]
           ],
           "sequentialminus": [
            [
             0,
             "#0d0887"
            ],
            [
             0.1111111111111111,
             "#46039f"
            ],
            [
             0.2222222222222222,
             "#7201a8"
            ],
            [
             0.3333333333333333,
             "#9c179e"
            ],
            [
             0.4444444444444444,
             "#bd3786"
            ],
            [
             0.5555555555555556,
             "#d8576b"
            ],
            [
             0.6666666666666666,
             "#ed7953"
            ],
            [
             0.7777777777777778,
             "#fb9f3a"
            ],
            [
             0.8888888888888888,
             "#fdca26"
            ],
            [
             1,
             "#f0f921"
            ]
           ]
          },
          "colorway": [
           "#636efa",
           "#EF553B",
           "#00cc96",
           "#ab63fa",
           "#FFA15A",
           "#19d3f3",
           "#FF6692",
           "#B6E880",
           "#FF97FF",
           "#FECB52"
          ],
          "font": {
           "color": "#2a3f5f"
          },
          "geo": {
           "bgcolor": "white",
           "lakecolor": "white",
           "landcolor": "#E5ECF6",
           "showlakes": true,
           "showland": true,
           "subunitcolor": "white"
          },
          "hoverlabel": {
           "align": "left"
          },
          "hovermode": "closest",
          "mapbox": {
           "style": "light"
          },
          "paper_bgcolor": "white",
          "plot_bgcolor": "#E5ECF6",
          "polar": {
           "angularaxis": {
            "gridcolor": "white",
            "linecolor": "white",
            "ticks": ""
           },
           "bgcolor": "#E5ECF6",
           "radialaxis": {
            "gridcolor": "white",
            "linecolor": "white",
            "ticks": ""
           }
          },
          "scene": {
           "xaxis": {
            "backgroundcolor": "#E5ECF6",
            "gridcolor": "white",
            "gridwidth": 2,
            "linecolor": "white",
            "showbackground": true,
            "ticks": "",
            "zerolinecolor": "white"
           },
           "yaxis": {
            "backgroundcolor": "#E5ECF6",
            "gridcolor": "white",
            "gridwidth": 2,
            "linecolor": "white",
            "showbackground": true,
            "ticks": "",
            "zerolinecolor": "white"
           },
           "zaxis": {
            "backgroundcolor": "#E5ECF6",
            "gridcolor": "white",
            "gridwidth": 2,
            "linecolor": "white",
            "showbackground": true,
            "ticks": "",
            "zerolinecolor": "white"
           }
          },
          "shapedefaults": {
           "line": {
            "color": "#2a3f5f"
           }
          },
          "ternary": {
           "aaxis": {
            "gridcolor": "white",
            "linecolor": "white",
            "ticks": ""
           },
           "baxis": {
            "gridcolor": "white",
            "linecolor": "white",
            "ticks": ""
           },
           "bgcolor": "#E5ECF6",
           "caxis": {
            "gridcolor": "white",
            "linecolor": "white",
            "ticks": ""
           }
          },
          "title": {
           "x": 0.05
          },
          "xaxis": {
           "automargin": true,
           "gridcolor": "white",
           "linecolor": "white",
           "ticks": "",
           "title": {
            "standoff": 15
           },
           "zerolinecolor": "white",
           "zerolinewidth": 2
          },
          "yaxis": {
           "automargin": true,
           "gridcolor": "white",
           "linecolor": "white",
           "ticks": "",
           "title": {
            "standoff": 15
           },
           "zerolinecolor": "white",
           "zerolinewidth": 2
          }
         }
        },
        "title": {
         "text": "Balam-47"
        },
        "width": 800
       }
      }
     },
     "metadata": {},
     "output_type": "display_data"
    }
   ],
   "source": [
    "\n",
    "#Trayectoria 3D\n",
    "import pandas as pd\n",
    "import plotly.express as px\n",
    "\n",
    "x = df['EW']; y = df['NS']; z = df['TVD']\n",
    "fig = px.line_3d(df,x,y,z, labels={'NS':'N/S (m)','EW':'E/O (m)','VD':'TVD (m)'},title='Balam-47',\n",
    "range_x=[-200,600],range_y=[-600,300],range_z=[5000,0],)\n",
    "\n",
    "fig.update_traces(line={'width':4,'color':'blue'})\n",
    "fig.update_layout(scene=dict(\n",
    "xaxis=dict(tickfont={'size':12},backgroundcolor='white',gridcolor='rgb(222,222,222)',tickvals=list(range(0,800,200))),\n",
    "yaxis=dict(tickfont={'size':12},backgroundcolor='white',gridcolor='rgb(222,222,222)',tickvals=list(range(-600,600,200))),\n",
    "zaxis=dict(tickfont={'size':12},backgroundcolor='white',gridcolor='rgb(222,222,222)',tickvals=list(range(0,5500,500)))))\n",
    "fig.update_layout(width=800,height=800)\n",
    "fig.show()"
   ]
  }
 ],
 "metadata": {
  "kernelspec": {
   "display_name": "Python 3",
   "language": "python",
   "name": "python3"
  },
  "language_info": {
   "codemirror_mode": {
    "name": "ipython",
    "version": 3
   },
   "file_extension": ".py",
   "mimetype": "text/x-python",
   "name": "python",
   "nbconvert_exporter": "python",
   "pygments_lexer": "ipython3",
   "version": "3.11.5"
  }
 },
 "nbformat": 4,
 "nbformat_minor": 2
}
